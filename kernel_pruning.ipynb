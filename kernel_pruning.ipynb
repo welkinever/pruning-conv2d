{
 "cells": [
  {
   "cell_type": "code",
   "execution_count": 1,
   "metadata": {},
   "outputs": [
    {
     "name": "stdout",
     "output_type": "stream",
     "text": [
      "Using GPU: NVIDIA GeForce GTX 1660 Ti\n"
     ]
    }
   ],
   "source": [
    "import torch\n",
    "import torch.nn as nn\n",
    "import torch.nn.utils.prune as prune\n",
    "import time\n",
    "\n",
    "# 确保使用 GPU\n",
    "if torch.cuda.is_available():\n",
    "    device = torch.device(\"cuda\")\n",
    "    print(\"Using GPU:\", torch.cuda.get_device_name(0))\n",
    "else:\n",
    "    device = torch.device(\"cpu\")\n",
    "    print(\"GPU not available, using CPU. Performance gains from pruning might not be evident.\")\n",
    "\n",
    "# --- 1. 定义测试卷积层 ---\n",
    "class TestConvNet(nn.Module):\n",
    "    def __init__(self, in_channels, out_channels, kernel_size):\n",
    "        super(TestConvNet, self).__init__()\n",
    "        self.conv = nn.Conv2d(in_channels, out_channels, kernel_size, padding=0).to(device)\n",
    "\n",
    "    def forward(self, x):\n",
    "        return self.conv(x)"
   ]
  },
  {
   "cell_type": "code",
   "execution_count": 11,
   "metadata": {},
   "outputs": [],
   "source": [
    "def benchmark_pruning(model, input_tensor, num_runs=1000):\n",
    "    start_event = torch.cuda.Event(enable_timing=True)\n",
    "    end_event = torch.cuda.Event(enable_timing=True)\n",
    "\n",
    "    # CUDA warmup\n",
    "    for _ in range(100):\n",
    "        _ = model(input_tensor)\n",
    "\n",
    "    start_event.record()\n",
    "    for _ in range(num_runs):\n",
    "        _ = model(input_tensor)\n",
    "    end_event.record()\n",
    "    torch.cuda.synchronize()\n",
    "    return start_event.elapsed_time(end_event) / num_runs"
   ]
  },
  {
   "cell_type": "code",
   "execution_count": 21,
   "metadata": {},
   "outputs": [
    {
     "name": "stdout",
     "output_type": "stream",
     "text": [
      "\n",
      "--- Benchmarking Convolutional Layer Pruning (Input: torch.Size([32, 64, 32, 32])) ---\n",
      "\n",
      "--- Original Model ---\n",
      "Original Conv2d layer inference time: 1.1373 ms\n",
      "Original parameters: 73856\n",
      "\n",
      "Non-zero parameters: 73728\n",
      "\n"
     ]
    }
   ],
   "source": [
    "in_channels = 64\n",
    "out_channels = 128\n",
    "kernel_size = 3\n",
    "input_batch_size = 32\n",
    "input_height = 32\n",
    "input_width = 32\n",
    "pruning_ratio = 0.5\n",
    "\n",
    "torch.manual_seed(42)\n",
    "input_data = torch.randn(input_batch_size, in_channels, input_height, input_width).to(device)\n",
    "\n",
    "print(f\"\\n--- Benchmarking Convolutional Layer Pruning (Input: {input_data.shape}) ---\")\n",
    "\n",
    "print(\"\\n--- Original Model ---\")\n",
    "model_original = TestConvNet(in_channels, out_channels, kernel_size)\n",
    "original_time = benchmark_pruning(model_original, input_data)\n",
    "print(f\"Original Conv2d layer inference time: {original_time:.4f} ms\")\n",
    "print(f\"Original parameters: {sum(p.numel() for p in model_original.parameters())}\\n\")\n",
    "non_zero_params = torch.count_nonzero(model_original.conv.weight.data).item()\n",
    "print(f\"Non-zero parameters: {non_zero_params}\\n\")"
   ]
  },
  {
   "cell_type": "code",
   "execution_count": 43,
   "metadata": {},
   "outputs": [
    {
     "name": "stdout",
     "output_type": "stream",
     "text": [
      "masked_weight_pruned Conv2d layer inference time: 1.1366 ms\n",
      "masked_weight_pruned parameters: 73856\n",
      "Non-zero parameters: 36864\n",
      "\n"
     ]
    }
   ],
   "source": [
    "model_masked_weight_pruned = TestConvNet(in_channels, out_channels, kernel_size)\n",
    "with torch.no_grad():\n",
    "    for name, module in model_masked_weight_pruned.named_modules():\n",
    "            if isinstance(module, nn.Conv2d):\n",
    "                threshold = torch.quantile(torch.abs(module.weight), q=pruning_ratio)\n",
    "                mask = torch.abs(module.weight) >= threshold\n",
    "                module.weight.data *= mask.float()\n",
    "    #print(model_masked_weight_pruned.conv.weight.data[1])\n",
    "    masked_weight_pruned_time = benchmark_pruning(model_masked_weight_pruned, input_data)\n",
    "    print(f\"masked_weight_pruned Conv2d layer inference time: {masked_weight_pruned_time:.4f} ms\")\n",
    "    print(f\"masked_weight_pruned parameters: {sum(p.numel() for p in model_masked_weight_pruned.parameters())}\")\n",
    "    non_zero_params = torch.count_nonzero(model_masked_weight_pruned.conv.weight.data).item()\n",
    "    print(f\"Non-zero parameters: {non_zero_params}\\n\")"
   ]
  },
  {
   "cell_type": "code",
   "execution_count": 38,
   "metadata": {},
   "outputs": [
    {
     "name": "stdout",
     "output_type": "stream",
     "text": [
      "masked_kernel_pruned Conv2d layer inference time: 1.1350 ms\n",
      "masked_kernel_pruned parameters: 73856\n",
      "Non-zero parameters: 36864\n",
      "\n"
     ]
    }
   ],
   "source": [
    "model_masked_kernel_pruned = TestConvNet(in_channels, out_channels, kernel_size)\n",
    "with torch.no_grad():\n",
    "    for name, module in model_masked_kernel_pruned.named_modules():\n",
    "            if isinstance(module, nn.Conv2d):\n",
    "                norms_per_filter_input_channel = torch.norm(module.weight, p=1, dim=(2, 3))\n",
    "                num_elements_to_prune_per_filter = int(pruning_ratio * in_channels)\n",
    "                \n",
    "                for i in range(out_channels):\n",
    "                    # Get the norms for the current output filter across all input channels\n",
    "                    current_filter_input_channel_norms = norms_per_filter_input_channel[i, :]\n",
    "                    \n",
    "                    # Find the threshold for this specific filter's input channels\n",
    "                    # Sort the norms to find the 'pruning_amount' smallest ones\n",
    "                    sorted_norms, sorted_indices = torch.sort(current_filter_input_channel_norms, descending=False)\n",
    "                    \n",
    "                    # Get the indices of the input channels to prune for this output filter\n",
    "                    indices_to_prune_for_this_filter = sorted_indices[:num_elements_to_prune_per_filter]\n",
    "                    \n",
    "                    # Set the corresponding kernel weights to zero\n",
    "                    # model_per_filter_kernel_pruned.conv.weight.data[i, indices_to_prune_for_this_filter, :, :] = 0.0\n",
    "                    # Use original_weight_data for modification within the loop\n",
    "                    module.weight.data[i, indices_to_prune_for_this_filter, :, :] = 0.0\n",
    "    # print(model_masked_kernel_pruned.conv.weight.data[1])\n",
    "    masked_kernel_pruned_time = benchmark_pruning(model_masked_kernel_pruned, input_data)\n",
    "    print(f\"masked_kernel_pruned Conv2d layer inference time: {masked_kernel_pruned_time:.4f} ms\")\n",
    "    print(f\"masked_kernel_pruned parameters: {sum(p.numel() for p in model_masked_kernel_pruned.parameters())}\")\n",
    "    non_zero_params = torch.count_nonzero(model_masked_kernel_pruned.conv.weight.data).item()\n",
    "    print(f\"Non-zero parameters: {non_zero_params}\\n\")"
   ]
  },
  {
   "cell_type": "code",
   "execution_count": 39,
   "metadata": {},
   "outputs": [
    {
     "name": "stdout",
     "output_type": "stream",
     "text": [
      "masked_filter_pruned Conv2d layer inference time: 1.1321 ms\n",
      "masked_filter_pruned parameters: 73856\n",
      "Non-zero parameters: 36864\n",
      "\n"
     ]
    }
   ],
   "source": [
    "model_masked_filter_pruned = TestConvNet(in_channels, out_channels, kernel_size)\n",
    "with torch.no_grad():\n",
    "    for name, module in model_masked_filter_pruned.named_modules():\n",
    "            if isinstance(module, nn.Conv2d):\n",
    "                norms_per_filter = torch.norm(module.weight, p=1, dim=(1, 2, 3))\n",
    "                num_filters_to_prune = int(pruning_ratio * out_channels)\n",
    "                \n",
    "                _, indices_to_prune = torch.topk(norms_per_filter, num_filters_to_prune, largest=False)\n",
    "\n",
    "                module.weight.data[indices_to_prune, :, :, :] = 0.0\n",
    "    #print(model_masked_filter_pruned.conv.weight.data[1])\n",
    "    masked_filter_pruned_time = benchmark_pruning(model_masked_filter_pruned, input_data)\n",
    "    print(f\"masked_filter_pruned Conv2d layer inference time: {masked_filter_pruned_time:.4f} ms\")\n",
    "    print(f\"masked_filter_pruned parameters: {sum(p.numel() for p in model_masked_filter_pruned.parameters())}\")\n",
    "    non_zero_params = torch.count_nonzero(model_masked_filter_pruned.conv.weight.data).item()\n",
    "    print(f\"Non-zero parameters: {non_zero_params}\\n\")"
   ]
  },
  {
   "cell_type": "code",
   "execution_count": 48,
   "metadata": {},
   "outputs": [
    {
     "name": "stdout",
     "output_type": "stream",
     "text": [
      "no_mask_filter_pruned Conv2d layer inference time: 0.5739 ms\n",
      "no_mask_filter_pruned parameters: 36928\n",
      "Non-zero parameters: 36864\n",
      "\n"
     ]
    }
   ],
   "source": [
    "temp_model_for_indices = TestConvNet(in_channels, out_channels, kernel_size)\n",
    "with torch.no_grad():\n",
    "    output_filter_l1_norms_temp = temp_model_for_indices.conv.weight.data.norm(p=1, dim=(1, 2, 3))\n",
    "    num_filters_to_prune = int(pruning_ratio * out_channels)\n",
    "    # 获取要保留的过滤器索引 (值最大的那些)\n",
    "    # 注意这里 largest=True 是为了获取要保留的，而不是要剪枝的\n",
    "    num_filters_to_retain = out_channels - num_filters_to_prune\n",
    "    _, retained_filters_indices_sorted = torch.topk(output_filter_l1_norms_temp, num_filters_to_retain, largest=True)\n",
    "    retained_filters_indices = retained_filters_indices_sorted.sort().values # 确保索引是有序的\n",
    "    \n",
    "model_no_mask_filter_pruned = TestConvNet(in_channels, len(retained_filters_indices), kernel_size)\n",
    "model_no_mask_filter_pruned.conv.weight.data = temp_model_for_indices.conv.weight.data[retained_filters_indices, :, :, :]\n",
    "if temp_model_for_indices.conv.bias is not None:\n",
    "    model_no_mask_filter_pruned.conv.bias.data = temp_model_for_indices.conv.bias.data[retained_filters_indices]\n",
    "    \n",
    "no_mask_filter_pruned_time = benchmark_pruning(model_no_mask_filter_pruned, input_data)\n",
    "print(f\"no_mask_filter_pruned Conv2d layer inference time: {no_mask_filter_pruned_time:.4f} ms\")\n",
    "print(f\"no_mask_filter_pruned parameters: {sum(p.numel() for p in model_no_mask_filter_pruned.parameters())}\")\n",
    "non_zero_params = torch.count_nonzero(model_no_mask_filter_pruned.conv.weight.data).item()\n",
    "print(f\"Non-zero parameters: {non_zero_params}\\n\")"
   ]
  }
 ],
 "metadata": {
  "kernelspec": {
   "display_name": "NLP",
   "language": "python",
   "name": "python3"
  },
  "language_info": {
   "codemirror_mode": {
    "name": "ipython",
    "version": 3
   },
   "file_extension": ".py",
   "mimetype": "text/x-python",
   "name": "python",
   "nbconvert_exporter": "python",
   "pygments_lexer": "ipython3",
   "version": "3.9.19"
  }
 },
 "nbformat": 4,
 "nbformat_minor": 2
}
